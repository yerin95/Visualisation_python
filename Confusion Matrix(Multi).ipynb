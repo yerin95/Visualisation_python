{
 "cells": [
  {
   "cell_type": "code",
   "execution_count": 1,
   "metadata": {
    "scrolled": false
   },
   "outputs": [
    {
     "name": "stderr",
     "output_type": "stream",
     "text": [
      "C:\\Users\\user\\anaconda3\\lib\\site-packages\\pandas\\core\\computation\\expressions.py:20: UserWarning: Pandas requires version '2.7.3' or newer of 'numexpr' (version '2.7.1' currently installed).\n",
      "  from pandas.core.computation.check import NUMEXPR_INSTALLED\n"
     ]
    }
   ],
   "source": [
    "# confusion matrix 수식 https://scikit-learn.org/stable/modules/model_evaluation.html\n",
    "import os\n",
    "import pandas as pd\n",
    "import numpy as np\n",
    "import sklearn.metrics as metrics\n",
    "from sklearn.metrics import plot_confusion_matrix\n",
    "from sklearn.metrics import confusion_matrix\n",
    "\n",
    "import seaborn as sns\n",
    "import matplotlib.pyplot as plt\n",
    "\n",
    "os.chdir(\"C:/Users/user/vis\") #confusion matrix 수식"
   ]
  },
  {
   "cell_type": "code",
   "execution_count": 2,
   "metadata": {},
   "outputs": [],
   "source": [
    "times = pd.read_excel(\"times_final.xlsx\")\n",
    "cwur  = pd.read_excel(\"cwur_final.xlsx\")\n",
    "shanghai  = pd.read_excel(\"shanghai_final.xlsx\")"
   ]
  },
  {
   "cell_type": "code",
   "execution_count": 9,
   "metadata": {},
   "outputs": [],
   "source": [
    "shanghai98 = shanghai.groupby('year').head(98)\n",
    "cwur98 = cwur.groupby('year').head(98)\n",
    "times98 = times.groupby('year').head(98)"
   ]
  },
  {
   "cell_type": "code",
   "execution_count": 11,
   "metadata": {},
   "outputs": [
    {
     "data": {
      "text/html": [
       "<div>\n",
       "<style scoped>\n",
       "    .dataframe tbody tr th:only-of-type {\n",
       "        vertical-align: middle;\n",
       "    }\n",
       "\n",
       "    .dataframe tbody tr th {\n",
       "        vertical-align: top;\n",
       "    }\n",
       "\n",
       "    .dataframe thead th {\n",
       "        text-align: right;\n",
       "    }\n",
       "</style>\n",
       "<table border=\"1\" class=\"dataframe\">\n",
       "  <thead>\n",
       "    <tr style=\"text-align: right;\">\n",
       "      <th></th>\n",
       "      <th>world_rank</th>\n",
       "      <th>university_name</th>\n",
       "      <th>national_rank</th>\n",
       "      <th>total_score</th>\n",
       "      <th>alumni</th>\n",
       "      <th>award</th>\n",
       "      <th>hici</th>\n",
       "      <th>ns</th>\n",
       "      <th>pub</th>\n",
       "      <th>pcp</th>\n",
       "      <th>year</th>\n",
       "    </tr>\n",
       "  </thead>\n",
       "  <tbody>\n",
       "    <tr>\n",
       "      <th>0</th>\n",
       "      <td>1</td>\n",
       "      <td>Harvard University</td>\n",
       "      <td>1</td>\n",
       "      <td>100.0</td>\n",
       "      <td>100.0</td>\n",
       "      <td>100.0</td>\n",
       "      <td>100.0</td>\n",
       "      <td>100.0</td>\n",
       "      <td>100.0</td>\n",
       "      <td>71.1</td>\n",
       "      <td>2012</td>\n",
       "    </tr>\n",
       "    <tr>\n",
       "      <th>1</th>\n",
       "      <td>2</td>\n",
       "      <td>Stanford University</td>\n",
       "      <td>2</td>\n",
       "      <td>72.8</td>\n",
       "      <td>38.0</td>\n",
       "      <td>79.7</td>\n",
       "      <td>88.9</td>\n",
       "      <td>71.6</td>\n",
       "      <td>69.6</td>\n",
       "      <td>49.2</td>\n",
       "      <td>2012</td>\n",
       "    </tr>\n",
       "    <tr>\n",
       "      <th>2</th>\n",
       "      <td>3</td>\n",
       "      <td>Massachusetts Institute of Technology (MIT)</td>\n",
       "      <td>3</td>\n",
       "      <td>71.8</td>\n",
       "      <td>69.0</td>\n",
       "      <td>83.2</td>\n",
       "      <td>68.2</td>\n",
       "      <td>69.2</td>\n",
       "      <td>61.6</td>\n",
       "      <td>64.1</td>\n",
       "      <td>2012</td>\n",
       "    </tr>\n",
       "    <tr>\n",
       "      <th>3</th>\n",
       "      <td>4</td>\n",
       "      <td>University of California, Berkeley</td>\n",
       "      <td>4</td>\n",
       "      <td>71.6</td>\n",
       "      <td>67.5</td>\n",
       "      <td>80.9</td>\n",
       "      <td>69.7</td>\n",
       "      <td>68.5</td>\n",
       "      <td>68.1</td>\n",
       "      <td>53.4</td>\n",
       "      <td>2012</td>\n",
       "    </tr>\n",
       "    <tr>\n",
       "      <th>4</th>\n",
       "      <td>5</td>\n",
       "      <td>University of Cambridge</td>\n",
       "      <td>1</td>\n",
       "      <td>69.8</td>\n",
       "      <td>80.3</td>\n",
       "      <td>97.2</td>\n",
       "      <td>54.6</td>\n",
       "      <td>55.0</td>\n",
       "      <td>65.9</td>\n",
       "      <td>52.1</td>\n",
       "      <td>2012</td>\n",
       "    </tr>\n",
       "    <tr>\n",
       "      <th>...</th>\n",
       "      <td>...</td>\n",
       "      <td>...</td>\n",
       "      <td>...</td>\n",
       "      <td>...</td>\n",
       "      <td>...</td>\n",
       "      <td>...</td>\n",
       "      <td>...</td>\n",
       "      <td>...</td>\n",
       "      <td>...</td>\n",
       "      <td>...</td>\n",
       "      <td>...</td>\n",
       "    </tr>\n",
       "    <tr>\n",
       "      <th>975</th>\n",
       "      <td>93</td>\n",
       "      <td>University of California, Santa Cruz</td>\n",
       "      <td>47</td>\n",
       "      <td>24.5</td>\n",
       "      <td>0.0</td>\n",
       "      <td>0.0</td>\n",
       "      <td>37.9</td>\n",
       "      <td>33.9</td>\n",
       "      <td>29.0</td>\n",
       "      <td>37.6</td>\n",
       "      <td>2015</td>\n",
       "    </tr>\n",
       "    <tr>\n",
       "      <th>976</th>\n",
       "      <td>93</td>\n",
       "      <td>University of Utah</td>\n",
       "      <td>47</td>\n",
       "      <td>24.5</td>\n",
       "      <td>0.0</td>\n",
       "      <td>11.5</td>\n",
       "      <td>26.5</td>\n",
       "      <td>25.5</td>\n",
       "      <td>46.7</td>\n",
       "      <td>18.7</td>\n",
       "      <td>2015</td>\n",
       "    </tr>\n",
       "    <tr>\n",
       "      <th>977</th>\n",
       "      <td>96</td>\n",
       "      <td>McMaster University</td>\n",
       "      <td>4</td>\n",
       "      <td>24.4</td>\n",
       "      <td>12.6</td>\n",
       "      <td>18.8</td>\n",
       "      <td>23.2</td>\n",
       "      <td>15.1</td>\n",
       "      <td>44.5</td>\n",
       "      <td>22.5</td>\n",
       "      <td>2015</td>\n",
       "    </tr>\n",
       "    <tr>\n",
       "      <th>978</th>\n",
       "      <td>97</td>\n",
       "      <td>University of Bonn</td>\n",
       "      <td>4</td>\n",
       "      <td>24.3</td>\n",
       "      <td>15.4</td>\n",
       "      <td>19.8</td>\n",
       "      <td>17.4</td>\n",
       "      <td>21.1</td>\n",
       "      <td>39.8</td>\n",
       "      <td>25.9</td>\n",
       "      <td>2015</td>\n",
       "    </tr>\n",
       "    <tr>\n",
       "      <th>979</th>\n",
       "      <td>98</td>\n",
       "      <td>VU University Amsterdam</td>\n",
       "      <td>4</td>\n",
       "      <td>24.2</td>\n",
       "      <td>0.0</td>\n",
       "      <td>0.0</td>\n",
       "      <td>27.8</td>\n",
       "      <td>18.0</td>\n",
       "      <td>55.5</td>\n",
       "      <td>33.3</td>\n",
       "      <td>2015</td>\n",
       "    </tr>\n",
       "  </tbody>\n",
       "</table>\n",
       "<p>392 rows × 11 columns</p>\n",
       "</div>"
      ],
      "text/plain": [
       "     world_rank                              university_name national_rank  \\\n",
       "0             1                           Harvard University             1   \n",
       "1             2                          Stanford University             2   \n",
       "2             3  Massachusetts Institute of Technology (MIT)             3   \n",
       "3             4           University of California, Berkeley             4   \n",
       "4             5                      University of Cambridge             1   \n",
       "..          ...                                          ...           ...   \n",
       "975          93         University of California, Santa Cruz            47   \n",
       "976          93                           University of Utah            47   \n",
       "977          96                          McMaster University             4   \n",
       "978          97                           University of Bonn             4   \n",
       "979          98                      VU University Amsterdam             4   \n",
       "\n",
       "     total_score  alumni  award   hici     ns    pub   pcp  year  \n",
       "0          100.0   100.0  100.0  100.0  100.0  100.0  71.1  2012  \n",
       "1           72.8    38.0   79.7   88.9   71.6   69.6  49.2  2012  \n",
       "2           71.8    69.0   83.2   68.2   69.2   61.6  64.1  2012  \n",
       "3           71.6    67.5   80.9   69.7   68.5   68.1  53.4  2012  \n",
       "4           69.8    80.3   97.2   54.6   55.0   65.9  52.1  2012  \n",
       "..           ...     ...    ...    ...    ...    ...   ...   ...  \n",
       "975         24.5     0.0    0.0   37.9   33.9   29.0  37.6  2015  \n",
       "976         24.5     0.0   11.5   26.5   25.5   46.7  18.7  2015  \n",
       "977         24.4    12.6   18.8   23.2   15.1   44.5  22.5  2015  \n",
       "978         24.3    15.4   19.8   17.4   21.1   39.8  25.9  2015  \n",
       "979         24.2     0.0    0.0   27.8   18.0   55.5  33.3  2015  \n",
       "\n",
       "[392 rows x 11 columns]"
      ]
     },
     "execution_count": 11,
     "metadata": {},
     "output_type": "execute_result"
    }
   ],
   "source": [
    "shanghai98"
   ]
  },
  {
   "cell_type": "code",
   "execution_count": 12,
   "metadata": {},
   "outputs": [],
   "source": [
    "# 25등까지 1그룹, 26~75까지 2그룹, 76~100 3그룹\n",
    "def rank_data(x):\n",
    "    if x <= 25:\n",
    "        return(1)\n",
    "    elif x <= 75:\n",
    "        return(2)\n",
    "    else :\n",
    "        return(3)"
   ]
  },
  {
   "cell_type": "code",
   "execution_count": 13,
   "metadata": {},
   "outputs": [],
   "source": [
    "def score_cal(y,p):\n",
    "    # sklearn 을 이용하면 전부 계산해준다.\n",
    "    f1_score = metrics.f1_score(y , p, average  = \"weighted\")\n",
    "    accuracy = metrics.accuracy_score(y , p)\n",
    "    precision = metrics.precision_score(y , p, average  = \"weighted\")\n",
    "    recall = metrics.recall_score(y , p, average  = \"weighted\")\n",
    "\n",
    "    tmp = pd.DataFrame({\"f1_score\":[f1_score],\n",
    "                           \"accuracy\":[accuracy],\n",
    "                           \"precision\":[precision],\n",
    "                           \"recall\":[recall]})\n",
    "    return(tmp)"
   ]
  },
  {
   "cell_type": "markdown",
   "metadata": {},
   "source": [
    "# Year 2012"
   ]
  },
  {
   "cell_type": "code",
   "execution_count": 14,
   "metadata": {},
   "outputs": [],
   "source": [
    "times2012 = times98[times98['year'] == 2012]\n",
    "cwur2012 = cwur98[cwur98['year'] == 2012]\n",
    "shanghai2012 = shanghai98[shanghai98['year'] == 2012]\n",
    "\n",
    "times2012 = times2012[[\"world_rank\",\"university_name\"]].rename(columns={\"world_rank\":\"times_world_rank\"}).head(100)\n",
    "cwur2012 = cwur2012[[\"world_rank\",\"institution\"]].rename(columns={\"world_rank\":\"cwur_world_rank\",\"institution\":\"university_name\"}).head(100)\n",
    "shanghai2012 = shanghai2012[[\"world_rank\",\"university_name\"]].rename(columns={\"world_rank\":\"shanghai_world_rank\"}).head(100)"
   ]
  },
  {
   "cell_type": "code",
   "execution_count": 15,
   "metadata": {},
   "outputs": [],
   "source": [
    "times2012['times_world_rank'] = times2012['times_world_rank'].apply(lambda x : rank_data(x))\n",
    "cwur2012['cwur_world_rank'] = cwur2012['cwur_world_rank'].apply(lambda x : rank_data(x))\n",
    "shanghai2012['shanghai_world_rank'] = shanghai2012['shanghai_world_rank'].apply(lambda x : rank_data(x))"
   ]
  },
  {
   "cell_type": "code",
   "execution_count": 16,
   "metadata": {},
   "outputs": [
    {
     "data": {
      "text/plain": [
       "(41, 4)"
      ]
     },
     "execution_count": 16,
     "metadata": {},
     "output_type": "execute_result"
    }
   ],
   "source": [
    "data2012 = pd.merge(pd.merge(times2012,cwur2012),shanghai2012)\n",
    "data2012.shape #43개의 대학이 겹침"
   ]
  },
  {
   "cell_type": "markdown",
   "metadata": {},
   "source": [
    "data2012"
   ]
  },
  {
   "cell_type": "markdown",
   "metadata": {},
   "source": [
    "### Times vs CWUR"
   ]
  },
  {
   "cell_type": "code",
   "execution_count": 17,
   "metadata": {},
   "outputs": [
    {
     "data": {
      "image/png": "[encoded data removed]",
      "text/plain": [
       "<Figure size 432x288 with 2 Axes>"
      ]
     },
     "metadata": {
      "needs_background": "light"
     },
     "output_type": "display_data"
    }
   ],
   "source": [
    "cf_matrix = confusion_matrix(data2012.times_world_rank,data2012.cwur_world_rank )\n",
    "sns.heatmap(cf_matrix, annot=(cf_matrix/cf_matrix.sum()).round(4), fmt='.2%',\n",
    "            cmap='Blues',linewidths = .1,\n",
    "           xticklabels = ['Top','Middle','Low'],\n",
    "            yticklabels=['Top','Middle','Low'])\n",
    "plt.title('Times vs Cwur 2012', fontsize=12)\n",
    "plt.xlabel(\"Times\", fontsize =10)\n",
    "plt.ylabel(\"Cwur\", fontsize =10)\n",
    "plt.yticks(rotation=360) \n",
    "plt.savefig('Times vs Cwur 2012' + '.png', width=150,height = 150)  "
   ]
  },
  {
   "cell_type": "code",
   "execution_count": 18,
   "metadata": {},
   "outputs": [
    {
     "data": {
      "text/html": [
       "<div>\n",
       "<style scoped>\n",
       "    .dataframe tbody tr th:only-of-type {\n",
       "        vertical-align: middle;\n",
       "    }\n",
       "\n",
       "    .dataframe tbody tr th {\n",
       "        vertical-align: top;\n",
       "    }\n",
       "\n",
       "    .dataframe thead th {\n",
       "        text-align: right;\n",
       "    }\n",
       "</style>\n",
       "<table border=\"1\" class=\"dataframe\">\n",
       "  <thead>\n",
       "    <tr style=\"text-align: right;\">\n",
       "      <th></th>\n",
       "      <th>f1_score</th>\n",
       "      <th>accuracy</th>\n",
       "      <th>precision</th>\n",
       "      <th>recall</th>\n",
       "    </tr>\n",
       "  </thead>\n",
       "  <tbody>\n",
       "    <tr>\n",
       "      <th>0</th>\n",
       "      <td>0.635479</td>\n",
       "      <td>0.634146</td>\n",
       "      <td>0.643293</td>\n",
       "      <td>0.634146</td>\n",
       "    </tr>\n",
       "  </tbody>\n",
       "</table>\n",
       "</div>"
      ],
      "text/plain": [
       "   f1_score  accuracy  precision    recall\n",
       "0  0.635479  0.634146   0.643293  0.634146"
      ]
     },
     "execution_count": 18,
     "metadata": {},
     "output_type": "execute_result"
    }
   ],
   "source": [
    "score_cal(data2012.times_world_rank,data2012.cwur_world_rank)"
   ]
  },
  {
   "cell_type": "markdown",
   "metadata": {},
   "source": [
    "### Times vs Shanghai"
   ]
  },
  {
   "cell_type": "code",
   "execution_count": 19,
   "metadata": {},
   "outputs": [
    {
     "data": {
      "image/png": "[encoded data removed]",
      "text/plain": [
       "<Figure size 432x288 with 2 Axes>"
      ]
     },
     "metadata": {
      "needs_background": "light"
     },
     "output_type": "display_data"
    }
   ],
   "source": [
    "cf_matrix = confusion_matrix(data2012.times_world_rank,data2012.shanghai_world_rank )\n",
    "sns.heatmap(cf_matrix, annot=(cf_matrix/cf_matrix.sum()).round(4), fmt='.2%', cmap='Blues',linewidths = .1,\n",
    "           xticklabels = ['Top','Middle','Low'],yticklabels=['Top','Middle','Low'])\n",
    "plt.title('Times vs Shanghai 2012', fontsize=12)\n",
    "plt.xlabel(\"Times\", fontsize =10)\n",
    "plt.ylabel(\"Shanghai\", fontsize =10)\n",
    "plt.yticks(rotation=360) \n",
    "plt.savefig('Times vs Shanghai 2012' + '.png', width=150,height = 150)  "
   ]
  },
  {
   "cell_type": "code",
   "execution_count": 20,
   "metadata": {},
   "outputs": [
    {
     "data": {
      "text/html": [
       "<div>\n",
       "<style scoped>\n",
       "    .dataframe tbody tr th:only-of-type {\n",
       "        vertical-align: middle;\n",
       "    }\n",
       "\n",
       "    .dataframe tbody tr th {\n",
       "        vertical-align: top;\n",
       "    }\n",
       "\n",
       "    .dataframe thead th {\n",
       "        text-align: right;\n",
       "    }\n",
       "</style>\n",
       "<table border=\"1\" class=\"dataframe\">\n",
       "  <thead>\n",
       "    <tr style=\"text-align: right;\">\n",
       "      <th></th>\n",
       "      <th>f1_score</th>\n",
       "      <th>accuracy</th>\n",
       "      <th>precision</th>\n",
       "      <th>recall</th>\n",
       "    </tr>\n",
       "  </thead>\n",
       "  <tbody>\n",
       "    <tr>\n",
       "      <th>0</th>\n",
       "      <td>0.728728</td>\n",
       "      <td>0.731707</td>\n",
       "      <td>0.746785</td>\n",
       "      <td>0.731707</td>\n",
       "    </tr>\n",
       "  </tbody>\n",
       "</table>\n",
       "</div>"
      ],
      "text/plain": [
       "   f1_score  accuracy  precision    recall\n",
       "0  0.728728  0.731707   0.746785  0.731707"
      ]
     },
     "execution_count": 20,
     "metadata": {},
     "output_type": "execute_result"
    }
   ],
   "source": [
    "score_cal(data2012.times_world_rank,data2012.shanghai_world_rank)"
   ]
  },
  {
   "cell_type": "markdown",
   "metadata": {},
   "source": [
    "### CWUR vs Shanghai"
   ]
  },
  {
   "cell_type": "code",
   "execution_count": 21,
   "metadata": {},
   "outputs": [
    {
     "data": {
      "image/png": "[encoded data removed]",
      "text/plain": [
       "<Figure size 432x288 with 2 Axes>"
      ]
     },
     "metadata": {
      "needs_background": "light"
     },
     "output_type": "display_data"
    }
   ],
   "source": [
    "cf_matrix = confusion_matrix(data2012.cwur_world_rank,data2012.shanghai_world_rank )\n",
    "sns.heatmap(cf_matrix, annot=(cf_matrix/cf_matrix.sum()).round(4), fmt='.2%', cmap='Blues',linewidths = .1,\n",
    "           xticklabels = ['Top','Middle','Low'],yticklabels=['Top','Middle','Low'])\n",
    "plt.title('Cwur vs Shanghai 2012', fontsize=12)\n",
    "plt.xlabel(\"Cwur\", fontsize =10)\n",
    "plt.ylabel(\"Shanghai\", fontsize =10)\n",
    "plt.yticks(rotation=360) \n",
    "plt.savefig('Cwur vs Shanghai 2012' + '.png', width=150,height = 150)  "
   ]
  },
  {
   "cell_type": "code",
   "execution_count": 23,
   "metadata": {},
   "outputs": [
    {
     "data": {
      "text/html": [
       "<div>\n",
       "<style scoped>\n",
       "    .dataframe tbody tr th:only-of-type {\n",
       "        vertical-align: middle;\n",
       "    }\n",
       "\n",
       "    .dataframe tbody tr th {\n",
       "        vertical-align: top;\n",
       "    }\n",
       "\n",
       "    .dataframe thead th {\n",
       "        text-align: right;\n",
       "    }\n",
       "</style>\n",
       "<table border=\"1\" class=\"dataframe\">\n",
       "  <thead>\n",
       "    <tr style=\"text-align: right;\">\n",
       "      <th></th>\n",
       "      <th>f1_score</th>\n",
       "      <th>accuracy</th>\n",
       "      <th>precision</th>\n",
       "      <th>recall</th>\n",
       "    </tr>\n",
       "  </thead>\n",
       "  <tbody>\n",
       "    <tr>\n",
       "      <th>0</th>\n",
       "      <td>0.751239</td>\n",
       "      <td>0.756098</td>\n",
       "      <td>0.749483</td>\n",
       "      <td>0.756098</td>\n",
       "    </tr>\n",
       "  </tbody>\n",
       "</table>\n",
       "</div>"
      ],
      "text/plain": [
       "   f1_score  accuracy  precision    recall\n",
       "0  0.751239  0.756098   0.749483  0.756098"
      ]
     },
     "execution_count": 23,
     "metadata": {},
     "output_type": "execute_result"
    }
   ],
   "source": [
    "score_cal(data2012.cwur_world_rank,data2012.shanghai_world_rank)"
   ]
  },
  {
   "cell_type": "markdown",
   "metadata": {},
   "source": [
    "# Year 2013"
   ]
  },
  {
   "cell_type": "code",
   "execution_count": 25,
   "metadata": {},
   "outputs": [
    {
     "data": {
      "text/plain": [
       "(37, 4)"
      ]
     },
     "execution_count": 25,
     "metadata": {},
     "output_type": "execute_result"
    }
   ],
   "source": [
    "times2013 = times98[times98['year'] == 2013]\n",
    "cwur2013 = cwur98[cwur98['year'] == 2013]\n",
    "shanghai2013 = shanghai98[shanghai98['year'] == 2013]\n",
    "\n",
    "times2013 = times2013[[\"world_rank\",\"university_name\"]].rename(columns={\"world_rank\":\"times_world_rank\"}).head(100)\n",
    "cwur2013 = cwur2013[[\"world_rank\",\"institution\"]].rename(columns={\"world_rank\":\"cwur_world_rank\",\"institution\":\"university_name\"}).head(100)\n",
    "shanghai2013 = shanghai2013[[\"world_rank\",\"university_name\"]].rename(columns={\"world_rank\":\"shanghai_world_rank\"}).head(100)\n",
    "\n",
    "times2013['times_world_rank'] = times2013['times_world_rank'].apply(lambda x : rank_data(x))\n",
    "cwur2013['cwur_world_rank'] = cwur2013['cwur_world_rank'].apply(lambda x : rank_data(x))\n",
    "shanghai2013['shanghai_world_rank'] = shanghai2013['shanghai_world_rank'].apply(lambda x : rank_data(x))\n",
    "\n",
    "data2013 = pd.merge(pd.merge(times2013,cwur2013),shanghai2013)\n",
    "data2013.shape #37개의 대학이 겹침"
   ]
  },
  {
   "cell_type": "code",
   "execution_count": 26,
   "metadata": {},
   "outputs": [
    {
     "data": {
      "text/html": [
       "<div>\n",
       "<style scoped>\n",
       "    .dataframe tbody tr th:only-of-type {\n",
       "        vertical-align: middle;\n",
       "    }\n",
       "\n",
       "    .dataframe tbody tr th {\n",
       "        vertical-align: top;\n",
       "    }\n",
       "\n",
       "    .dataframe thead th {\n",
       "        text-align: right;\n",
       "    }\n",
       "</style>\n",
       "<table border=\"1\" class=\"dataframe\">\n",
       "  <thead>\n",
       "    <tr style=\"text-align: right;\">\n",
       "      <th></th>\n",
       "      <th>times_world_rank</th>\n",
       "      <th>university_name</th>\n",
       "      <th>cwur_world_rank</th>\n",
       "      <th>shanghai_world_rank</th>\n",
       "    </tr>\n",
       "  </thead>\n",
       "  <tbody>\n",
       "    <tr>\n",
       "      <th>0</th>\n",
       "      <td>1</td>\n",
       "      <td>California Institute of Technology</td>\n",
       "      <td>1</td>\n",
       "      <td>1</td>\n",
       "    </tr>\n",
       "    <tr>\n",
       "      <th>1</th>\n",
       "      <td>1</td>\n",
       "      <td>Stanford University</td>\n",
       "      <td>1</td>\n",
       "      <td>1</td>\n",
       "    </tr>\n",
       "    <tr>\n",
       "      <th>2</th>\n",
       "      <td>1</td>\n",
       "      <td>University of Oxford</td>\n",
       "      <td>1</td>\n",
       "      <td>1</td>\n",
       "    </tr>\n",
       "    <tr>\n",
       "      <th>3</th>\n",
       "      <td>1</td>\n",
       "      <td>Harvard University</td>\n",
       "      <td>1</td>\n",
       "      <td>1</td>\n",
       "    </tr>\n",
       "    <tr>\n",
       "      <th>4</th>\n",
       "      <td>1</td>\n",
       "      <td>Princeton University</td>\n",
       "      <td>1</td>\n",
       "      <td>1</td>\n",
       "    </tr>\n",
       "    <tr>\n",
       "      <th>5</th>\n",
       "      <td>1</td>\n",
       "      <td>University of Cambridge</td>\n",
       "      <td>1</td>\n",
       "      <td>1</td>\n",
       "    </tr>\n",
       "    <tr>\n",
       "      <th>6</th>\n",
       "      <td>1</td>\n",
       "      <td>University of California, Berkeley</td>\n",
       "      <td>1</td>\n",
       "      <td>1</td>\n",
       "    </tr>\n",
       "    <tr>\n",
       "      <th>7</th>\n",
       "      <td>1</td>\n",
       "      <td>University of Chicago</td>\n",
       "      <td>1</td>\n",
       "      <td>1</td>\n",
       "    </tr>\n",
       "    <tr>\n",
       "      <th>8</th>\n",
       "      <td>1</td>\n",
       "      <td>Yale University</td>\n",
       "      <td>1</td>\n",
       "      <td>1</td>\n",
       "    </tr>\n",
       "    <tr>\n",
       "      <th>9</th>\n",
       "      <td>1</td>\n",
       "      <td>University of California, Los Angeles</td>\n",
       "      <td>1</td>\n",
       "      <td>1</td>\n",
       "    </tr>\n",
       "    <tr>\n",
       "      <th>10</th>\n",
       "      <td>1</td>\n",
       "      <td>Columbia University</td>\n",
       "      <td>1</td>\n",
       "      <td>1</td>\n",
       "    </tr>\n",
       "    <tr>\n",
       "      <th>11</th>\n",
       "      <td>1</td>\n",
       "      <td>University of Pennsylvania</td>\n",
       "      <td>1</td>\n",
       "      <td>1</td>\n",
       "    </tr>\n",
       "    <tr>\n",
       "      <th>12</th>\n",
       "      <td>1</td>\n",
       "      <td>University College London</td>\n",
       "      <td>2</td>\n",
       "      <td>1</td>\n",
       "    </tr>\n",
       "    <tr>\n",
       "      <th>13</th>\n",
       "      <td>1</td>\n",
       "      <td>Cornell University</td>\n",
       "      <td>1</td>\n",
       "      <td>1</td>\n",
       "    </tr>\n",
       "    <tr>\n",
       "      <th>14</th>\n",
       "      <td>1</td>\n",
       "      <td>Northwestern University</td>\n",
       "      <td>2</td>\n",
       "      <td>2</td>\n",
       "    </tr>\n",
       "    <tr>\n",
       "      <th>15</th>\n",
       "      <td>1</td>\n",
       "      <td>University of Toronto</td>\n",
       "      <td>2</td>\n",
       "      <td>2</td>\n",
       "    </tr>\n",
       "    <tr>\n",
       "      <th>16</th>\n",
       "      <td>1</td>\n",
       "      <td>Carnegie Mellon University</td>\n",
       "      <td>2</td>\n",
       "      <td>2</td>\n",
       "    </tr>\n",
       "    <tr>\n",
       "      <th>17</th>\n",
       "      <td>1</td>\n",
       "      <td>Duke University</td>\n",
       "      <td>1</td>\n",
       "      <td>2</td>\n",
       "    </tr>\n",
       "    <tr>\n",
       "      <th>18</th>\n",
       "      <td>2</td>\n",
       "      <td>University of British Columbia</td>\n",
       "      <td>2</td>\n",
       "      <td>2</td>\n",
       "    </tr>\n",
       "    <tr>\n",
       "      <th>19</th>\n",
       "      <td>2</td>\n",
       "      <td>McGill University</td>\n",
       "      <td>2</td>\n",
       "      <td>2</td>\n",
       "    </tr>\n",
       "    <tr>\n",
       "      <th>20</th>\n",
       "      <td>2</td>\n",
       "      <td>University of California, Santa Barbara</td>\n",
       "      <td>2</td>\n",
       "      <td>2</td>\n",
       "    </tr>\n",
       "    <tr>\n",
       "      <th>21</th>\n",
       "      <td>2</td>\n",
       "      <td>University of California, San Diego</td>\n",
       "      <td>1</td>\n",
       "      <td>1</td>\n",
       "    </tr>\n",
       "    <tr>\n",
       "      <th>22</th>\n",
       "      <td>2</td>\n",
       "      <td>New York University</td>\n",
       "      <td>1</td>\n",
       "      <td>2</td>\n",
       "    </tr>\n",
       "    <tr>\n",
       "      <th>23</th>\n",
       "      <td>2</td>\n",
       "      <td>Karolinska Institute</td>\n",
       "      <td>2</td>\n",
       "      <td>2</td>\n",
       "    </tr>\n",
       "    <tr>\n",
       "      <th>24</th>\n",
       "      <td>2</td>\n",
       "      <td>University of North Carolina at Chapel Hill</td>\n",
       "      <td>2</td>\n",
       "      <td>2</td>\n",
       "    </tr>\n",
       "    <tr>\n",
       "      <th>25</th>\n",
       "      <td>2</td>\n",
       "      <td>University of California, Davis</td>\n",
       "      <td>2</td>\n",
       "      <td>2</td>\n",
       "    </tr>\n",
       "    <tr>\n",
       "      <th>26</th>\n",
       "      <td>2</td>\n",
       "      <td>Brown University</td>\n",
       "      <td>3</td>\n",
       "      <td>2</td>\n",
       "    </tr>\n",
       "    <tr>\n",
       "      <th>27</th>\n",
       "      <td>2</td>\n",
       "      <td>Boston University</td>\n",
       "      <td>2</td>\n",
       "      <td>2</td>\n",
       "    </tr>\n",
       "    <tr>\n",
       "      <th>28</th>\n",
       "      <td>2</td>\n",
       "      <td>Kyoto University</td>\n",
       "      <td>1</td>\n",
       "      <td>2</td>\n",
       "    </tr>\n",
       "    <tr>\n",
       "      <th>29</th>\n",
       "      <td>2</td>\n",
       "      <td>University of Southern California</td>\n",
       "      <td>2</td>\n",
       "      <td>2</td>\n",
       "    </tr>\n",
       "    <tr>\n",
       "      <th>30</th>\n",
       "      <td>2</td>\n",
       "      <td>University of Sydney</td>\n",
       "      <td>3</td>\n",
       "      <td>3</td>\n",
       "    </tr>\n",
       "    <tr>\n",
       "      <th>31</th>\n",
       "      <td>2</td>\n",
       "      <td>Utrecht University</td>\n",
       "      <td>3</td>\n",
       "      <td>2</td>\n",
       "    </tr>\n",
       "    <tr>\n",
       "      <th>32</th>\n",
       "      <td>2</td>\n",
       "      <td>Rice University</td>\n",
       "      <td>3</td>\n",
       "      <td>3</td>\n",
       "    </tr>\n",
       "    <tr>\n",
       "      <th>33</th>\n",
       "      <td>3</td>\n",
       "      <td>University of Zurich</td>\n",
       "      <td>2</td>\n",
       "      <td>2</td>\n",
       "    </tr>\n",
       "    <tr>\n",
       "      <th>34</th>\n",
       "      <td>3</td>\n",
       "      <td>University of California, Irvine</td>\n",
       "      <td>2</td>\n",
       "      <td>2</td>\n",
       "    </tr>\n",
       "    <tr>\n",
       "      <th>35</th>\n",
       "      <td>3</td>\n",
       "      <td>University of Maryland, College Park</td>\n",
       "      <td>2</td>\n",
       "      <td>2</td>\n",
       "    </tr>\n",
       "    <tr>\n",
       "      <th>36</th>\n",
       "      <td>3</td>\n",
       "      <td>University of Arizona</td>\n",
       "      <td>3</td>\n",
       "      <td>3</td>\n",
       "    </tr>\n",
       "  </tbody>\n",
       "</table>\n",
       "</div>"
      ],
      "text/plain": [
       "    times_world_rank                              university_name  \\\n",
       "0                  1           California Institute of Technology   \n",
       "1                  1                          Stanford University   \n",
       "2                  1                         University of Oxford   \n",
       "3                  1                           Harvard University   \n",
       "4                  1                         Princeton University   \n",
       "5                  1                      University of Cambridge   \n",
       "6                  1           University of California, Berkeley   \n",
       "7                  1                        University of Chicago   \n",
       "8                  1                              Yale University   \n",
       "9                  1        University of California, Los Angeles   \n",
       "10                 1                          Columbia University   \n",
       "11                 1                   University of Pennsylvania   \n",
       "12                 1                    University College London   \n",
       "13                 1                           Cornell University   \n",
       "14                 1                      Northwestern University   \n",
       "15                 1                        University of Toronto   \n",
       "16                 1                   Carnegie Mellon University   \n",
       "17                 1                              Duke University   \n",
       "18                 2               University of British Columbia   \n",
       "19                 2                            McGill University   \n",
       "20                 2      University of California, Santa Barbara   \n",
       "21                 2          University of California, San Diego   \n",
       "22                 2                          New York University   \n",
       "23                 2                         Karolinska Institute   \n",
       "24                 2  University of North Carolina at Chapel Hill   \n",
       "25                 2              University of California, Davis   \n",
       "26                 2                             Brown University   \n",
       "27                 2                            Boston University   \n",
       "28                 2                             Kyoto University   \n",
       "29                 2            University of Southern California   \n",
       "30                 2                         University of Sydney   \n",
       "31                 2                           Utrecht University   \n",
       "32                 2                              Rice University   \n",
       "33                 3                         University of Zurich   \n",
       "34                 3             University of California, Irvine   \n",
       "35                 3         University of Maryland, College Park   \n",
       "36                 3                        University of Arizona   \n",
       "\n",
       "    cwur_world_rank  shanghai_world_rank  \n",
       "0                 1                    1  \n",
       "1                 1                    1  \n",
       "2                 1                    1  \n",
       "3                 1                    1  \n",
       "4                 1                    1  \n",
       "5                 1                    1  \n",
       "6                 1                    1  \n",
       "7                 1                    1  \n",
       "8                 1                    1  \n",
       "9                 1                    1  \n",
       "10                1                    1  \n",
       "11                1                    1  \n",
       "12                2                    1  \n",
       "13                1                    1  \n",
       "14                2                    2  \n",
       "15                2                    2  \n",
       "16                2                    2  \n",
       "17                1                    2  \n",
       "18                2                    2  \n",
       "19                2                    2  \n",
       "20                2                    2  \n",
       "21                1                    1  \n",
       "22                1                    2  \n",
       "23                2                    2  \n",
       "24                2                    2  \n",
       "25                2                    2  \n",
       "26                3                    2  \n",
       "27                2                    2  \n",
       "28                1                    2  \n",
       "29                2                    2  \n",
       "30                3                    3  \n",
       "31                3                    2  \n",
       "32                3                    3  \n",
       "33                2                    2  \n",
       "34                2                    2  \n",
       "35                2                    2  \n",
       "36                3                    3  "
      ]
     },
     "execution_count": 26,
     "metadata": {},
     "output_type": "execute_result"
    }
   ],
   "source": [
    "data2013"
   ]
  },
  {
   "cell_type": "markdown",
   "metadata": {},
   "source": [
    "### Times vs CWUR"
   ]
  },
  {
   "cell_type": "code",
   "execution_count": 27,
   "metadata": {},
   "outputs": [
    {
     "data": {
      "image/png": "[encoded data removed]",
      "text/plain": [
       "<Figure size 432x288 with 2 Axes>"
      ]
     },
     "metadata": {
      "needs_background": "light"
     },
     "output_type": "display_data"
    }
   ],
   "source": [
    "cf_matrix = confusion_matrix(data2013.times_world_rank,data2013.cwur_world_rank )\n",
    "sns.heatmap(cf_matrix, annot=(cf_matrix/cf_matrix.sum()).round(4), fmt='.2%', cmap='Blues',linewidths = .1,\n",
    "            xticklabels = ['Top','Middle','Low'],yticklabels=['Top','Middle','Low'])\n",
    "plt.title('Times vs Cwur 2013', fontsize=12)\n",
    "plt.xlabel(\"Times\", fontsize =10)\n",
    "plt.ylabel(\"Cwur\", fontsize =10)\n",
    "plt.yticks(rotation=360) \n",
    "score_cal(data2013.times_world_rank,data2013.cwur_world_rank)\n",
    "\n",
    "plt.savefig('Times vs Cwur 2013' + '.png', width=150,height = 150) "
   ]
  },
  {
   "cell_type": "code",
   "execution_count": 28,
   "metadata": {},
   "outputs": [
    {
     "data": {
      "text/html": [
       "<div>\n",
       "<style scoped>\n",
       "    .dataframe tbody tr th:only-of-type {\n",
       "        vertical-align: middle;\n",
       "    }\n",
       "\n",
       "    .dataframe tbody tr th {\n",
       "        vertical-align: top;\n",
       "    }\n",
       "\n",
       "    .dataframe thead th {\n",
       "        text-align: right;\n",
       "    }\n",
       "</style>\n",
       "<table border=\"1\" class=\"dataframe\">\n",
       "  <thead>\n",
       "    <tr style=\"text-align: right;\">\n",
       "      <th></th>\n",
       "      <th>f1_score</th>\n",
       "      <th>accuracy</th>\n",
       "      <th>precision</th>\n",
       "      <th>recall</th>\n",
       "    </tr>\n",
       "  </thead>\n",
       "  <tbody>\n",
       "    <tr>\n",
       "      <th>0</th>\n",
       "      <td>0.629429</td>\n",
       "      <td>0.621622</td>\n",
       "      <td>0.638474</td>\n",
       "      <td>0.621622</td>\n",
       "    </tr>\n",
       "  </tbody>\n",
       "</table>\n",
       "</div>"
      ],
      "text/plain": [
       "   f1_score  accuracy  precision    recall\n",
       "0  0.629429  0.621622   0.638474  0.621622"
      ]
     },
     "execution_count": 28,
     "metadata": {},
     "output_type": "execute_result"
    }
   ],
   "source": [
    "score_cal(data2013.times_world_rank,data2013.cwur_world_rank)"
   ]
  },
  {
   "cell_type": "markdown",
   "metadata": {},
   "source": [
    "### Times vs Shanghai"
   ]
  },
  {
   "cell_type": "code",
   "execution_count": 23,
   "metadata": {},
   "outputs": [
    {
     "data": {
      "image/png": "[encoded data removed]",
      "text/plain": [
       "<Figure size 432x288 with 2 Axes>"
      ]
     },
     "metadata": {
      "needs_background": "light"
     },
     "output_type": "display_data"
    }
   ],
   "source": [
    "cf_matrix = confusion_matrix(data2013.times_world_rank,data2013.shanghai_world_rank )\n",
    "sns.heatmap(cf_matrix, annot=(cf_matrix/cf_matrix.sum()).round(4), fmt='.2%', cmap='Blues',linewidths = .1,\n",
    "            xticklabels = ['Top','Middle','Low'],yticklabels=['Top','Middle','Low'])\n",
    "plt.title('Times vs Shanghai 2013', fontsize=12)\n",
    "plt.xlabel(\"Times\", fontsize =10)\n",
    "plt.ylabel(\"Shanghai\", fontsize =10)\n",
    "plt.yticks(rotation=360) \n",
    "\n",
    "score_cal(data2013.times_world_rank,data2013.shanghai_world_rank)\n",
    "\n",
    "plt.savefig('Times vs Shanghai 2013' + '.png', width=150,height = 150) "
   ]
  },
  {
   "cell_type": "code",
   "execution_count": 28,
   "metadata": {},
   "outputs": [
    {
     "data": {
      "text/html": [
       "<div>\n",
       "<style scoped>\n",
       "    .dataframe tbody tr th:only-of-type {\n",
       "        vertical-align: middle;\n",
       "    }\n",
       "\n",
       "    .dataframe tbody tr th {\n",
       "        vertical-align: top;\n",
       "    }\n",
       "\n",
       "    .dataframe thead th {\n",
       "        text-align: right;\n",
       "    }\n",
       "</style>\n",
       "<table border=\"1\" class=\"dataframe\">\n",
       "  <thead>\n",
       "    <tr style=\"text-align: right;\">\n",
       "      <th></th>\n",
       "      <th>f1_score</th>\n",
       "      <th>accuracy</th>\n",
       "      <th>precision</th>\n",
       "      <th>recall</th>\n",
       "    </tr>\n",
       "  </thead>\n",
       "  <tbody>\n",
       "    <tr>\n",
       "      <th>0</th>\n",
       "      <td>0.729833</td>\n",
       "      <td>0.72973</td>\n",
       "      <td>0.746136</td>\n",
       "      <td>0.72973</td>\n",
       "    </tr>\n",
       "  </tbody>\n",
       "</table>\n",
       "</div>"
      ],
      "text/plain": [
       "   f1_score  accuracy  precision   recall\n",
       "0  0.729833   0.72973   0.746136  0.72973"
      ]
     },
     "execution_count": 28,
     "metadata": {},
     "output_type": "execute_result"
    }
   ],
   "source": [
    "score_cal(data2013.times_world_rank,data2013.shanghai_world_rank)"
   ]
  },
  {
   "cell_type": "markdown",
   "metadata": {},
   "source": [
    "### CWUR vs Shanghai"
   ]
  },
  {
   "cell_type": "code",
   "execution_count": 85,
   "metadata": {},
   "outputs": [
    {
     "data": {
      "image/png": "[encoded data removed]",
      "text/plain": [
       "<Figure size 432x288 with 2 Axes>"
      ]
     },
     "metadata": {
      "needs_background": "light"
     },
     "output_type": "display_data"
    }
   ],
   "source": [
    "cf_matrix = confusion_matrix(data2013.cwur_world_rank,data2013.shanghai_world_rank )\n",
    "sns.heatmap(cf_matrix, annot=(cf_matrix/cf_matrix.sum()).round(4), fmt='.2%', cmap='Blues',linewidths = .1,\n",
    "            xticklabels = ['Top','Middle','Low'],yticklabels=['Top','Middle','Low'])\n",
    "plt.title('Cwur vs Shanghai 2013', fontsize=12)\n",
    "plt.xlabel(\"Cwur\", fontsize =10)\n",
    "plt.ylabel(\"Shanghai\", fontsize =10)\n",
    "plt.yticks(rotation=360) \n",
    "score_cal(data2013.cwur_world_rank,data2013.shanghai_world_rank)\n",
    "\n",
    "plt.savefig('Cwur vs Shanghai 2013' + '.png', width=150,height = 150) \n"
   ]
  },
  {
   "cell_type": "code",
   "execution_count": 29,
   "metadata": {},
   "outputs": [
    {
     "data": {
      "text/html": [
       "<div>\n",
       "<style scoped>\n",
       "    .dataframe tbody tr th:only-of-type {\n",
       "        vertical-align: middle;\n",
       "    }\n",
       "\n",
       "    .dataframe tbody tr th {\n",
       "        vertical-align: top;\n",
       "    }\n",
       "\n",
       "    .dataframe thead th {\n",
       "        text-align: right;\n",
       "    }\n",
       "</style>\n",
       "<table border=\"1\" class=\"dataframe\">\n",
       "  <thead>\n",
       "    <tr style=\"text-align: right;\">\n",
       "      <th></th>\n",
       "      <th>f1_score</th>\n",
       "      <th>accuracy</th>\n",
       "      <th>precision</th>\n",
       "      <th>recall</th>\n",
       "    </tr>\n",
       "  </thead>\n",
       "  <tbody>\n",
       "    <tr>\n",
       "      <th>0</th>\n",
       "      <td>0.837242</td>\n",
       "      <td>0.837838</td>\n",
       "      <td>0.862684</td>\n",
       "      <td>0.837838</td>\n",
       "    </tr>\n",
       "  </tbody>\n",
       "</table>\n",
       "</div>"
      ],
      "text/plain": [
       "   f1_score  accuracy  precision    recall\n",
       "0  0.837242  0.837838   0.862684  0.837838"
      ]
     },
     "execution_count": 29,
     "metadata": {},
     "output_type": "execute_result"
    }
   ],
   "source": [
    "score_cal(data2013.cwur_world_rank,data2013.shanghai_world_rank)"
   ]
  },
  {
   "cell_type": "markdown",
   "metadata": {},
   "source": [
    "# Year 2014"
   ]
  },
  {
   "cell_type": "code",
   "execution_count": 30,
   "metadata": {},
   "outputs": [
    {
     "data": {
      "text/plain": [
       "(34, 4)"
      ]
     },
     "execution_count": 30,
     "metadata": {},
     "output_type": "execute_result"
    }
   ],
   "source": [
    "times2014 = times[times['year'] == 2014]\n",
    "cwur2014 = cwur[cwur['year'] == 2014]\n",
    "shanghai2014 = shanghai[shanghai['year'] == 2014]\n",
    "\n",
    "times2014 = times2014[[\"world_rank\",\"university_name\"]].rename(columns={\"world_rank\":\"times_world_rank\"}).head(100)\n",
    "cwur2014 = cwur2014[[\"world_rank\",\"institution\"]].rename(columns={\"world_rank\":\"cwur_world_rank\",\"institution\":\"university_name\"}).head(100)\n",
    "shanghai2014 = shanghai2014[[\"world_rank\",\"university_name\"]].rename(columns={\"world_rank\":\"shanghai_world_rank\"}).head(100)\n",
    "\n",
    "times2014['times_world_rank'] = times2014['times_world_rank'].apply(lambda x : rank_data(x))\n",
    "cwur2014['cwur_world_rank'] = cwur2014['cwur_world_rank'].apply(lambda x : rank_data(x))\n",
    "shanghai2014['shanghai_world_rank'] = shanghai2014['shanghai_world_rank'].apply(lambda x : rank_data(x))\n",
    "\n",
    "data2014 = pd.merge(pd.merge(times2014,cwur2014),shanghai2014)\n",
    "data2014.shape #34개의 대학이 겹침"
   ]
  },
  {
   "cell_type": "code",
   "execution_count": 31,
   "metadata": {},
   "outputs": [
    {
     "data": {
      "text/html": [
       "<div>\n",
       "<style scoped>\n",
       "    .dataframe tbody tr th:only-of-type {\n",
       "        vertical-align: middle;\n",
       "    }\n",
       "\n",
       "    .dataframe tbody tr th {\n",
       "        vertical-align: top;\n",
       "    }\n",
       "\n",
       "    .dataframe thead th {\n",
       "        text-align: right;\n",
       "    }\n",
       "</style>\n",
       "<table border=\"1\" class=\"dataframe\">\n",
       "  <thead>\n",
       "    <tr style=\"text-align: right;\">\n",
       "      <th></th>\n",
       "      <th>times_world_rank</th>\n",
       "      <th>university_name</th>\n",
       "      <th>cwur_world_rank</th>\n",
       "      <th>shanghai_world_rank</th>\n",
       "    </tr>\n",
       "  </thead>\n",
       "  <tbody>\n",
       "    <tr>\n",
       "      <th>0</th>\n",
       "      <td>1</td>\n",
       "      <td>California Institute of Technology</td>\n",
       "      <td>1</td>\n",
       "      <td>1</td>\n",
       "    </tr>\n",
       "    <tr>\n",
       "      <th>1</th>\n",
       "      <td>1</td>\n",
       "      <td>Harvard University</td>\n",
       "      <td>1</td>\n",
       "      <td>1</td>\n",
       "    </tr>\n",
       "    <tr>\n",
       "      <th>2</th>\n",
       "      <td>1</td>\n",
       "      <td>University of Oxford</td>\n",
       "      <td>1</td>\n",
       "      <td>1</td>\n",
       "    </tr>\n",
       "    <tr>\n",
       "      <th>3</th>\n",
       "      <td>1</td>\n",
       "      <td>Stanford University</td>\n",
       "      <td>1</td>\n",
       "      <td>1</td>\n",
       "    </tr>\n",
       "    <tr>\n",
       "      <th>4</th>\n",
       "      <td>1</td>\n",
       "      <td>Princeton University</td>\n",
       "      <td>1</td>\n",
       "      <td>1</td>\n",
       "    </tr>\n",
       "    <tr>\n",
       "      <th>5</th>\n",
       "      <td>1</td>\n",
       "      <td>University of Cambridge</td>\n",
       "      <td>1</td>\n",
       "      <td>1</td>\n",
       "    </tr>\n",
       "    <tr>\n",
       "      <th>6</th>\n",
       "      <td>1</td>\n",
       "      <td>University of Chicago</td>\n",
       "      <td>1</td>\n",
       "      <td>1</td>\n",
       "    </tr>\n",
       "    <tr>\n",
       "      <th>7</th>\n",
       "      <td>1</td>\n",
       "      <td>Yale University</td>\n",
       "      <td>1</td>\n",
       "      <td>1</td>\n",
       "    </tr>\n",
       "    <tr>\n",
       "      <th>8</th>\n",
       "      <td>1</td>\n",
       "      <td>University of California, Los Angeles</td>\n",
       "      <td>1</td>\n",
       "      <td>1</td>\n",
       "    </tr>\n",
       "    <tr>\n",
       "      <th>9</th>\n",
       "      <td>1</td>\n",
       "      <td>Columbia University</td>\n",
       "      <td>1</td>\n",
       "      <td>1</td>\n",
       "    </tr>\n",
       "    <tr>\n",
       "      <th>10</th>\n",
       "      <td>1</td>\n",
       "      <td>University of Pennsylvania</td>\n",
       "      <td>1</td>\n",
       "      <td>1</td>\n",
       "    </tr>\n",
       "    <tr>\n",
       "      <th>11</th>\n",
       "      <td>1</td>\n",
       "      <td>Duke University</td>\n",
       "      <td>2</td>\n",
       "      <td>2</td>\n",
       "    </tr>\n",
       "    <tr>\n",
       "      <th>12</th>\n",
       "      <td>1</td>\n",
       "      <td>Cornell University</td>\n",
       "      <td>1</td>\n",
       "      <td>1</td>\n",
       "    </tr>\n",
       "    <tr>\n",
       "      <th>13</th>\n",
       "      <td>1</td>\n",
       "      <td>University of Toronto</td>\n",
       "      <td>2</td>\n",
       "      <td>1</td>\n",
       "    </tr>\n",
       "    <tr>\n",
       "      <th>14</th>\n",
       "      <td>1</td>\n",
       "      <td>University College London</td>\n",
       "      <td>2</td>\n",
       "      <td>1</td>\n",
       "    </tr>\n",
       "    <tr>\n",
       "      <th>15</th>\n",
       "      <td>1</td>\n",
       "      <td>Northwestern University</td>\n",
       "      <td>1</td>\n",
       "      <td>2</td>\n",
       "    </tr>\n",
       "    <tr>\n",
       "      <th>16</th>\n",
       "      <td>1</td>\n",
       "      <td>Carnegie Mellon University</td>\n",
       "      <td>2</td>\n",
       "      <td>2</td>\n",
       "    </tr>\n",
       "    <tr>\n",
       "      <th>17</th>\n",
       "      <td>2</td>\n",
       "      <td>Georgia Institute of Technology</td>\n",
       "      <td>3</td>\n",
       "      <td>3</td>\n",
       "    </tr>\n",
       "    <tr>\n",
       "      <th>18</th>\n",
       "      <td>2</td>\n",
       "      <td>University of British Columbia</td>\n",
       "      <td>2</td>\n",
       "      <td>2</td>\n",
       "    </tr>\n",
       "    <tr>\n",
       "      <th>19</th>\n",
       "      <td>2</td>\n",
       "      <td>University of California, Santa Barbara</td>\n",
       "      <td>2</td>\n",
       "      <td>2</td>\n",
       "    </tr>\n",
       "    <tr>\n",
       "      <th>20</th>\n",
       "      <td>2</td>\n",
       "      <td>McGill University</td>\n",
       "      <td>2</td>\n",
       "      <td>2</td>\n",
       "    </tr>\n",
       "    <tr>\n",
       "      <th>21</th>\n",
       "      <td>2</td>\n",
       "      <td>Karolinska Institute</td>\n",
       "      <td>2</td>\n",
       "      <td>2</td>\n",
       "    </tr>\n",
       "    <tr>\n",
       "      <th>22</th>\n",
       "      <td>2</td>\n",
       "      <td>New York University</td>\n",
       "      <td>1</td>\n",
       "      <td>2</td>\n",
       "    </tr>\n",
       "    <tr>\n",
       "      <th>23</th>\n",
       "      <td>2</td>\n",
       "      <td>University of California, San Diego</td>\n",
       "      <td>1</td>\n",
       "      <td>1</td>\n",
       "    </tr>\n",
       "    <tr>\n",
       "      <th>24</th>\n",
       "      <td>2</td>\n",
       "      <td>University of North Carolina at Chapel Hill</td>\n",
       "      <td>2</td>\n",
       "      <td>2</td>\n",
       "    </tr>\n",
       "    <tr>\n",
       "      <th>25</th>\n",
       "      <td>2</td>\n",
       "      <td>Boston University</td>\n",
       "      <td>2</td>\n",
       "      <td>2</td>\n",
       "    </tr>\n",
       "    <tr>\n",
       "      <th>26</th>\n",
       "      <td>2</td>\n",
       "      <td>Brown University</td>\n",
       "      <td>3</td>\n",
       "      <td>2</td>\n",
       "    </tr>\n",
       "    <tr>\n",
       "      <th>27</th>\n",
       "      <td>2</td>\n",
       "      <td>Kyoto University</td>\n",
       "      <td>1</td>\n",
       "      <td>2</td>\n",
       "    </tr>\n",
       "    <tr>\n",
       "      <th>28</th>\n",
       "      <td>2</td>\n",
       "      <td>University of California, Davis</td>\n",
       "      <td>2</td>\n",
       "      <td>2</td>\n",
       "    </tr>\n",
       "    <tr>\n",
       "      <th>29</th>\n",
       "      <td>2</td>\n",
       "      <td>University of Southern California</td>\n",
       "      <td>2</td>\n",
       "      <td>2</td>\n",
       "    </tr>\n",
       "    <tr>\n",
       "      <th>30</th>\n",
       "      <td>2</td>\n",
       "      <td>Utrecht University</td>\n",
       "      <td>3</td>\n",
       "      <td>2</td>\n",
       "    </tr>\n",
       "    <tr>\n",
       "      <th>31</th>\n",
       "      <td>3</td>\n",
       "      <td>Vanderbilt University</td>\n",
       "      <td>2</td>\n",
       "      <td>2</td>\n",
       "    </tr>\n",
       "    <tr>\n",
       "      <th>32</th>\n",
       "      <td>3</td>\n",
       "      <td>University of California, Irvine</td>\n",
       "      <td>3</td>\n",
       "      <td>2</td>\n",
       "    </tr>\n",
       "    <tr>\n",
       "      <th>33</th>\n",
       "      <td>3</td>\n",
       "      <td>University of Rochester</td>\n",
       "      <td>3</td>\n",
       "      <td>3</td>\n",
       "    </tr>\n",
       "  </tbody>\n",
       "</table>\n",
       "</div>"
      ],
      "text/plain": [
       "    times_world_rank                              university_name  \\\n",
       "0                  1           California Institute of Technology   \n",
       "1                  1                           Harvard University   \n",
       "2                  1                         University of Oxford   \n",
       "3                  1                          Stanford University   \n",
       "4                  1                         Princeton University   \n",
       "5                  1                      University of Cambridge   \n",
       "6                  1                        University of Chicago   \n",
       "7                  1                              Yale University   \n",
       "8                  1        University of California, Los Angeles   \n",
       "9                  1                          Columbia University   \n",
       "10                 1                   University of Pennsylvania   \n",
       "11                 1                              Duke University   \n",
       "12                 1                           Cornell University   \n",
       "13                 1                        University of Toronto   \n",
       "14                 1                    University College London   \n",
       "15                 1                      Northwestern University   \n",
       "16                 1                   Carnegie Mellon University   \n",
       "17                 2              Georgia Institute of Technology   \n",
       "18                 2               University of British Columbia   \n",
       "19                 2      University of California, Santa Barbara   \n",
       "20                 2                            McGill University   \n",
       "21                 2                         Karolinska Institute   \n",
       "22                 2                          New York University   \n",
       "23                 2          University of California, San Diego   \n",
       "24                 2  University of North Carolina at Chapel Hill   \n",
       "25                 2                            Boston University   \n",
       "26                 2                             Brown University   \n",
       "27                 2                             Kyoto University   \n",
       "28                 2              University of California, Davis   \n",
       "29                 2            University of Southern California   \n",
       "30                 2                           Utrecht University   \n",
       "31                 3                        Vanderbilt University   \n",
       "32                 3             University of California, Irvine   \n",
       "33                 3                      University of Rochester   \n",
       "\n",
       "    cwur_world_rank  shanghai_world_rank  \n",
       "0                 1                    1  \n",
       "1                 1                    1  \n",
       "2                 1                    1  \n",
       "3                 1                    1  \n",
       "4                 1                    1  \n",
       "5                 1                    1  \n",
       "6                 1                    1  \n",
       "7                 1                    1  \n",
       "8                 1                    1  \n",
       "9                 1                    1  \n",
       "10                1                    1  \n",
       "11                2                    2  \n",
       "12                1                    1  \n",
       "13                2                    1  \n",
       "14                2                    1  \n",
       "15                1                    2  \n",
       "16                2                    2  \n",
       "17                3                    3  \n",
       "18                2                    2  \n",
       "19                2                    2  \n",
       "20                2                    2  \n",
       "21                2                    2  \n",
       "22                1                    2  \n",
       "23                1                    1  \n",
       "24                2                    2  \n",
       "25                2                    2  \n",
       "26                3                    2  \n",
       "27                1                    2  \n",
       "28                2                    2  \n",
       "29                2                    2  \n",
       "30                3                    2  \n",
       "31                2                    2  \n",
       "32                3                    2  \n",
       "33                3                    3  "
      ]
     },
     "execution_count": 31,
     "metadata": {},
     "output_type": "execute_result"
    }
   ],
   "source": [
    "data2014"
   ]
  },
  {
   "cell_type": "markdown",
   "metadata": {},
   "source": [
    "### Times vs CWUR"
   ]
  },
  {
   "cell_type": "code",
   "execution_count": 32,
   "metadata": {},
   "outputs": [
    {
     "data": {
      "image/png": "[encoded data removed]",
      "text/plain": [
       "<Figure size 432x288 with 2 Axes>"
      ]
     },
     "metadata": {
      "needs_background": "light"
     },
     "output_type": "display_data"
    }
   ],
   "source": [
    "cf_matrix = confusion_matrix(data2014.times_world_rank,data2014.cwur_world_rank )\n",
    "sns.heatmap(cf_matrix, annot=(cf_matrix/cf_matrix.sum()).round(4), fmt='.2%', cmap='Blues',linewidths = .1,\n",
    "            xticklabels = ['Top','Middle','Low'],yticklabels=['Top','Middle','Low'])\n",
    "plt.title('Times vs Cwur 2014', fontsize=12)\n",
    "plt.xlabel(\"Times\", fontsize =10)\n",
    "plt.ylabel(\"Cwur\", fontsize =10)\n",
    "plt.yticks(rotation=360) \n",
    "\n",
    "score_cal(data2014.times_world_rank,data2014.cwur_world_rank)\n",
    "\n",
    "plt.savefig(' Times vs Cwur 2014' + '.png', width=150,height = 150) "
   ]
  },
  {
   "cell_type": "code",
   "execution_count": 33,
   "metadata": {},
   "outputs": [
    {
     "data": {
      "text/html": [
       "<div>\n",
       "<style scoped>\n",
       "    .dataframe tbody tr th:only-of-type {\n",
       "        vertical-align: middle;\n",
       "    }\n",
       "\n",
       "    .dataframe tbody tr th {\n",
       "        vertical-align: top;\n",
       "    }\n",
       "\n",
       "    .dataframe thead th {\n",
       "        text-align: right;\n",
       "    }\n",
       "</style>\n",
       "<table border=\"1\" class=\"dataframe\">\n",
       "  <thead>\n",
       "    <tr style=\"text-align: right;\">\n",
       "      <th></th>\n",
       "      <th>f1_score</th>\n",
       "      <th>accuracy</th>\n",
       "      <th>precision</th>\n",
       "      <th>recall</th>\n",
       "    </tr>\n",
       "  </thead>\n",
       "  <tbody>\n",
       "    <tr>\n",
       "      <th>0</th>\n",
       "      <td>0.682066</td>\n",
       "      <td>0.676471</td>\n",
       "      <td>0.694938</td>\n",
       "      <td>0.676471</td>\n",
       "    </tr>\n",
       "  </tbody>\n",
       "</table>\n",
       "</div>"
      ],
      "text/plain": [
       "   f1_score  accuracy  precision    recall\n",
       "0  0.682066  0.676471   0.694938  0.676471"
      ]
     },
     "execution_count": 33,
     "metadata": {},
     "output_type": "execute_result"
    }
   ],
   "source": [
    "score_cal(data2014.times_world_rank,data2014.cwur_world_rank)"
   ]
  },
  {
   "cell_type": "markdown",
   "metadata": {},
   "source": [
    "### Times vs Shanghai"
   ]
  },
  {
   "cell_type": "code",
   "execution_count": 34,
   "metadata": {},
   "outputs": [
    {
     "data": {
      "image/png": "[encoded data removed]",
      "text/plain": [
       "<Figure size 432x288 with 2 Axes>"
      ]
     },
     "metadata": {
      "needs_background": "light"
     },
     "output_type": "display_data"
    }
   ],
   "source": [
    "cf_matrix = confusion_matrix(data2014.times_world_rank,data2014.shanghai_world_rank )\n",
    "sns.heatmap(cf_matrix, annot=(cf_matrix/cf_matrix.sum()).round(4), fmt='.2%', cmap='Blues',linewidths = .1,\n",
    "            xticklabels = ['Top','Middle','Low'],yticklabels=['Top','Middle','Low'])\n",
    "plt.title('Times vs Shanghai 2014', fontsize=12)\n",
    "plt.xlabel(\"Times\", fontsize =10)\n",
    "plt.ylabel(\"Shanghai\", fontsize =10)\n",
    "plt.yticks(rotation=360) \n",
    "score_cal(data2014.times_world_rank,data2014.shanghai_world_rank)\n",
    "\n",
    "plt.savefig(' Times vs Shanghai 2014' + '.png', width=150,height = 150) "
   ]
  },
  {
   "cell_type": "code",
   "execution_count": 35,
   "metadata": {},
   "outputs": [
    {
     "data": {
      "text/html": [
       "<div>\n",
       "<style scoped>\n",
       "    .dataframe tbody tr th:only-of-type {\n",
       "        vertical-align: middle;\n",
       "    }\n",
       "\n",
       "    .dataframe tbody tr th {\n",
       "        vertical-align: top;\n",
       "    }\n",
       "\n",
       "    .dataframe thead th {\n",
       "        text-align: right;\n",
       "    }\n",
       "</style>\n",
       "<table border=\"1\" class=\"dataframe\">\n",
       "  <thead>\n",
       "    <tr style=\"text-align: right;\">\n",
       "      <th></th>\n",
       "      <th>f1_score</th>\n",
       "      <th>accuracy</th>\n",
       "      <th>precision</th>\n",
       "      <th>recall</th>\n",
       "    </tr>\n",
       "  </thead>\n",
       "  <tbody>\n",
       "    <tr>\n",
       "      <th>0</th>\n",
       "      <td>0.79158</td>\n",
       "      <td>0.794118</td>\n",
       "      <td>0.801442</td>\n",
       "      <td>0.794118</td>\n",
       "    </tr>\n",
       "  </tbody>\n",
       "</table>\n",
       "</div>"
      ],
      "text/plain": [
       "   f1_score  accuracy  precision    recall\n",
       "0   0.79158  0.794118   0.801442  0.794118"
      ]
     },
     "execution_count": 35,
     "metadata": {},
     "output_type": "execute_result"
    }
   ],
   "source": [
    "score_cal(data2014.times_world_rank,data2014.shanghai_world_rank)"
   ]
  },
  {
   "cell_type": "markdown",
   "metadata": {},
   "source": [
    "### CWUR vs Shanghai"
   ]
  },
  {
   "cell_type": "code",
   "execution_count": 36,
   "metadata": {},
   "outputs": [
    {
     "data": {
      "image/png": "[encoded data removed]",
      "text/plain": [
       "<Figure size 432x288 with 2 Axes>"
      ]
     },
     "metadata": {
      "needs_background": "light"
     },
     "output_type": "display_data"
    }
   ],
   "source": [
    "cf_matrix = confusion_matrix(data2014.cwur_world_rank,data2014.shanghai_world_rank )\n",
    "sns.heatmap(cf_matrix, annot=(cf_matrix/cf_matrix.sum()).round(4), fmt='.2%', cmap='Blues',linewidths = .1,\n",
    "            xticklabels = ['Top','Middle','Low'],yticklabels=['Top','Middle','Low'])\n",
    "plt.title('Cwur vs Shanghai 2014', fontsize=12)\n",
    "plt.xlabel(\"Cwur\", fontsize =10)\n",
    "plt.ylabel(\"Shanghai\", fontsize =10)\n",
    "plt.yticks(rotation=360) \n",
    "\n",
    "score_cal(data2014.cwur_world_rank,data2014.shanghai_world_rank)\n",
    "\n",
    "plt.savefig(' Cwur vs Shanghai 2014' + '.png', width=150,height = 150) "
   ]
  },
  {
   "cell_type": "code",
   "execution_count": 37,
   "metadata": {},
   "outputs": [
    {
     "data": {
      "text/html": [
       "<div>\n",
       "<style scoped>\n",
       "    .dataframe tbody tr th:only-of-type {\n",
       "        vertical-align: middle;\n",
       "    }\n",
       "\n",
       "    .dataframe tbody tr th {\n",
       "        vertical-align: top;\n",
       "    }\n",
       "\n",
       "    .dataframe thead th {\n",
       "        text-align: right;\n",
       "    }\n",
       "</style>\n",
       "<table border=\"1\" class=\"dataframe\">\n",
       "  <thead>\n",
       "    <tr style=\"text-align: right;\">\n",
       "      <th></th>\n",
       "      <th>f1_score</th>\n",
       "      <th>accuracy</th>\n",
       "      <th>precision</th>\n",
       "      <th>recall</th>\n",
       "    </tr>\n",
       "  </thead>\n",
       "  <tbody>\n",
       "    <tr>\n",
       "      <th>0</th>\n",
       "      <td>0.759113</td>\n",
       "      <td>0.764706</td>\n",
       "      <td>0.802307</td>\n",
       "      <td>0.764706</td>\n",
       "    </tr>\n",
       "  </tbody>\n",
       "</table>\n",
       "</div>"
      ],
      "text/plain": [
       "   f1_score  accuracy  precision    recall\n",
       "0  0.759113  0.764706   0.802307  0.764706"
      ]
     },
     "execution_count": 37,
     "metadata": {},
     "output_type": "execute_result"
    }
   ],
   "source": [
    "score_cal(data2014.cwur_world_rank,data2014.shanghai_world_rank)"
   ]
  },
  {
   "cell_type": "markdown",
   "metadata": {},
   "source": [
    "# Year 2015"
   ]
  },
  {
   "cell_type": "code",
   "execution_count": 38,
   "metadata": {},
   "outputs": [
    {
     "data": {
      "text/plain": [
       "(35, 4)"
      ]
     },
     "execution_count": 38,
     "metadata": {},
     "output_type": "execute_result"
    }
   ],
   "source": [
    "times2015 = times[times['year'] == 2015]\n",
    "cwur2015 = cwur[cwur['year'] == 2015]\n",
    "shanghai2015 = shanghai[shanghai['year'] == 2015]\n",
    "\n",
    "times2015 = times2015[[\"world_rank\",\"university_name\"]].rename(columns={\"world_rank\":\"times_world_rank\"}).head(100)\n",
    "cwur2015 = cwur2015[[\"world_rank\",\"institution\"]].rename(columns={\"world_rank\":\"cwur_world_rank\",\"institution\":\"university_name\"}).head(100)\n",
    "shanghai2015 = shanghai2015[[\"world_rank\",\"university_name\"]].rename(columns={\"world_rank\":\"shanghai_world_rank\"}).head(100)\n",
    "\n",
    "times2015['times_world_rank'] = times2015['times_world_rank'].apply(lambda x : rank_data(x))\n",
    "cwur2015['cwur_world_rank'] = cwur2015['cwur_world_rank'].apply(lambda x : rank_data(x))\n",
    "shanghai2015['shanghai_world_rank'] = shanghai2015['shanghai_world_rank'].apply(lambda x : rank_data(x))\n",
    "\n",
    "data2015 = pd.merge(pd.merge(times2015,cwur2015),shanghai2015)\n",
    "data2015.shape #35개의 대학이 겹침"
   ]
  },
  {
   "cell_type": "code",
   "execution_count": 39,
   "metadata": {},
   "outputs": [
    {
     "data": {
      "text/html": [
       "<div>\n",
       "<style scoped>\n",
       "    .dataframe tbody tr th:only-of-type {\n",
       "        vertical-align: middle;\n",
       "    }\n",
       "\n",
       "    .dataframe tbody tr th {\n",
       "        vertical-align: top;\n",
       "    }\n",
       "\n",
       "    .dataframe thead th {\n",
       "        text-align: right;\n",
       "    }\n",
       "</style>\n",
       "<table border=\"1\" class=\"dataframe\">\n",
       "  <thead>\n",
       "    <tr style=\"text-align: right;\">\n",
       "      <th></th>\n",
       "      <th>times_world_rank</th>\n",
       "      <th>university_name</th>\n",
       "      <th>cwur_world_rank</th>\n",
       "      <th>shanghai_world_rank</th>\n",
       "    </tr>\n",
       "  </thead>\n",
       "  <tbody>\n",
       "    <tr>\n",
       "      <th>0</th>\n",
       "      <td>1</td>\n",
       "      <td>California Institute of Technology</td>\n",
       "      <td>1</td>\n",
       "      <td>1</td>\n",
       "    </tr>\n",
       "    <tr>\n",
       "      <th>1</th>\n",
       "      <td>1</td>\n",
       "      <td>Harvard University</td>\n",
       "      <td>1</td>\n",
       "      <td>1</td>\n",
       "    </tr>\n",
       "    <tr>\n",
       "      <th>2</th>\n",
       "      <td>1</td>\n",
       "      <td>University of Oxford</td>\n",
       "      <td>1</td>\n",
       "      <td>1</td>\n",
       "    </tr>\n",
       "    <tr>\n",
       "      <th>3</th>\n",
       "      <td>1</td>\n",
       "      <td>Stanford University</td>\n",
       "      <td>1</td>\n",
       "      <td>1</td>\n",
       "    </tr>\n",
       "    <tr>\n",
       "      <th>4</th>\n",
       "      <td>1</td>\n",
       "      <td>University of Cambridge</td>\n",
       "      <td>1</td>\n",
       "      <td>1</td>\n",
       "    </tr>\n",
       "    <tr>\n",
       "      <th>5</th>\n",
       "      <td>1</td>\n",
       "      <td>Princeton University</td>\n",
       "      <td>1</td>\n",
       "      <td>1</td>\n",
       "    </tr>\n",
       "    <tr>\n",
       "      <th>6</th>\n",
       "      <td>1</td>\n",
       "      <td>University of California, Berkeley</td>\n",
       "      <td>1</td>\n",
       "      <td>1</td>\n",
       "    </tr>\n",
       "    <tr>\n",
       "      <th>7</th>\n",
       "      <td>1</td>\n",
       "      <td>Yale University</td>\n",
       "      <td>1</td>\n",
       "      <td>1</td>\n",
       "    </tr>\n",
       "    <tr>\n",
       "      <th>8</th>\n",
       "      <td>1</td>\n",
       "      <td>University of Chicago</td>\n",
       "      <td>1</td>\n",
       "      <td>1</td>\n",
       "    </tr>\n",
       "    <tr>\n",
       "      <th>9</th>\n",
       "      <td>1</td>\n",
       "      <td>University of California, Los Angeles</td>\n",
       "      <td>1</td>\n",
       "      <td>1</td>\n",
       "    </tr>\n",
       "    <tr>\n",
       "      <th>10</th>\n",
       "      <td>1</td>\n",
       "      <td>Columbia University</td>\n",
       "      <td>1</td>\n",
       "      <td>1</td>\n",
       "    </tr>\n",
       "    <tr>\n",
       "      <th>11</th>\n",
       "      <td>1</td>\n",
       "      <td>Johns Hopkins University</td>\n",
       "      <td>1</td>\n",
       "      <td>1</td>\n",
       "    </tr>\n",
       "    <tr>\n",
       "      <th>12</th>\n",
       "      <td>1</td>\n",
       "      <td>University of Pennsylvania</td>\n",
       "      <td>1</td>\n",
       "      <td>1</td>\n",
       "    </tr>\n",
       "    <tr>\n",
       "      <th>13</th>\n",
       "      <td>1</td>\n",
       "      <td>Duke University</td>\n",
       "      <td>2</td>\n",
       "      <td>2</td>\n",
       "    </tr>\n",
       "    <tr>\n",
       "      <th>14</th>\n",
       "      <td>1</td>\n",
       "      <td>Cornell University</td>\n",
       "      <td>1</td>\n",
       "      <td>1</td>\n",
       "    </tr>\n",
       "    <tr>\n",
       "      <th>15</th>\n",
       "      <td>1</td>\n",
       "      <td>University of Toronto</td>\n",
       "      <td>2</td>\n",
       "      <td>1</td>\n",
       "    </tr>\n",
       "    <tr>\n",
       "      <th>16</th>\n",
       "      <td>1</td>\n",
       "      <td>Northwestern University</td>\n",
       "      <td>1</td>\n",
       "      <td>2</td>\n",
       "    </tr>\n",
       "    <tr>\n",
       "      <th>17</th>\n",
       "      <td>1</td>\n",
       "      <td>University College London</td>\n",
       "      <td>2</td>\n",
       "      <td>1</td>\n",
       "    </tr>\n",
       "    <tr>\n",
       "      <th>18</th>\n",
       "      <td>1</td>\n",
       "      <td>Carnegie Mellon University</td>\n",
       "      <td>2</td>\n",
       "      <td>2</td>\n",
       "    </tr>\n",
       "    <tr>\n",
       "      <th>19</th>\n",
       "      <td>2</td>\n",
       "      <td>University of British Columbia</td>\n",
       "      <td>2</td>\n",
       "      <td>2</td>\n",
       "    </tr>\n",
       "    <tr>\n",
       "      <th>20</th>\n",
       "      <td>2</td>\n",
       "      <td>University of California, Santa Barbara</td>\n",
       "      <td>2</td>\n",
       "      <td>2</td>\n",
       "    </tr>\n",
       "    <tr>\n",
       "      <th>21</th>\n",
       "      <td>2</td>\n",
       "      <td>New York University</td>\n",
       "      <td>1</td>\n",
       "      <td>2</td>\n",
       "    </tr>\n",
       "    <tr>\n",
       "      <th>22</th>\n",
       "      <td>2</td>\n",
       "      <td>McGill University</td>\n",
       "      <td>2</td>\n",
       "      <td>2</td>\n",
       "    </tr>\n",
       "    <tr>\n",
       "      <th>23</th>\n",
       "      <td>2</td>\n",
       "      <td>University of California, San Diego</td>\n",
       "      <td>1</td>\n",
       "      <td>1</td>\n",
       "    </tr>\n",
       "    <tr>\n",
       "      <th>24</th>\n",
       "      <td>2</td>\n",
       "      <td>Karolinska Institute</td>\n",
       "      <td>2</td>\n",
       "      <td>2</td>\n",
       "    </tr>\n",
       "    <tr>\n",
       "      <th>25</th>\n",
       "      <td>2</td>\n",
       "      <td>University of North Carolina at Chapel Hill</td>\n",
       "      <td>2</td>\n",
       "      <td>2</td>\n",
       "    </tr>\n",
       "    <tr>\n",
       "      <th>26</th>\n",
       "      <td>2</td>\n",
       "      <td>Brown University</td>\n",
       "      <td>3</td>\n",
       "      <td>2</td>\n",
       "    </tr>\n",
       "    <tr>\n",
       "      <th>27</th>\n",
       "      <td>2</td>\n",
       "      <td>University of California, Davis</td>\n",
       "      <td>2</td>\n",
       "      <td>2</td>\n",
       "    </tr>\n",
       "    <tr>\n",
       "      <th>28</th>\n",
       "      <td>2</td>\n",
       "      <td>Boston University</td>\n",
       "      <td>2</td>\n",
       "      <td>2</td>\n",
       "    </tr>\n",
       "    <tr>\n",
       "      <th>29</th>\n",
       "      <td>2</td>\n",
       "      <td>Kyoto University</td>\n",
       "      <td>1</td>\n",
       "      <td>2</td>\n",
       "    </tr>\n",
       "    <tr>\n",
       "      <th>30</th>\n",
       "      <td>2</td>\n",
       "      <td>University of Southern California</td>\n",
       "      <td>2</td>\n",
       "      <td>2</td>\n",
       "    </tr>\n",
       "    <tr>\n",
       "      <th>31</th>\n",
       "      <td>3</td>\n",
       "      <td>Utrecht University</td>\n",
       "      <td>3</td>\n",
       "      <td>2</td>\n",
       "    </tr>\n",
       "    <tr>\n",
       "      <th>32</th>\n",
       "      <td>3</td>\n",
       "      <td>University of Arizona</td>\n",
       "      <td>2</td>\n",
       "      <td>3</td>\n",
       "    </tr>\n",
       "    <tr>\n",
       "      <th>33</th>\n",
       "      <td>3</td>\n",
       "      <td>University of California, Irvine</td>\n",
       "      <td>3</td>\n",
       "      <td>2</td>\n",
       "    </tr>\n",
       "    <tr>\n",
       "      <th>34</th>\n",
       "      <td>3</td>\n",
       "      <td>Vanderbilt University</td>\n",
       "      <td>2</td>\n",
       "      <td>2</td>\n",
       "    </tr>\n",
       "  </tbody>\n",
       "</table>\n",
       "</div>"
      ],
      "text/plain": [
       "    times_world_rank                              university_name  \\\n",
       "0                  1           California Institute of Technology   \n",
       "1                  1                           Harvard University   \n",
       "2                  1                         University of Oxford   \n",
       "3                  1                          Stanford University   \n",
       "4                  1                      University of Cambridge   \n",
       "5                  1                         Princeton University   \n",
       "6                  1           University of California, Berkeley   \n",
       "7                  1                              Yale University   \n",
       "8                  1                        University of Chicago   \n",
       "9                  1        University of California, Los Angeles   \n",
       "10                 1                          Columbia University   \n",
       "11                 1                     Johns Hopkins University   \n",
       "12                 1                   University of Pennsylvania   \n",
       "13                 1                              Duke University   \n",
       "14                 1                           Cornell University   \n",
       "15                 1                        University of Toronto   \n",
       "16                 1                      Northwestern University   \n",
       "17                 1                    University College London   \n",
       "18                 1                   Carnegie Mellon University   \n",
       "19                 2               University of British Columbia   \n",
       "20                 2      University of California, Santa Barbara   \n",
       "21                 2                          New York University   \n",
       "22                 2                            McGill University   \n",
       "23                 2          University of California, San Diego   \n",
       "24                 2                         Karolinska Institute   \n",
       "25                 2  University of North Carolina at Chapel Hill   \n",
       "26                 2                             Brown University   \n",
       "27                 2              University of California, Davis   \n",
       "28                 2                            Boston University   \n",
       "29                 2                             Kyoto University   \n",
       "30                 2            University of Southern California   \n",
       "31                 3                           Utrecht University   \n",
       "32                 3                        University of Arizona   \n",
       "33                 3             University of California, Irvine   \n",
       "34                 3                        Vanderbilt University   \n",
       "\n",
       "    cwur_world_rank  shanghai_world_rank  \n",
       "0                 1                    1  \n",
       "1                 1                    1  \n",
       "2                 1                    1  \n",
       "3                 1                    1  \n",
       "4                 1                    1  \n",
       "5                 1                    1  \n",
       "6                 1                    1  \n",
       "7                 1                    1  \n",
       "8                 1                    1  \n",
       "9                 1                    1  \n",
       "10                1                    1  \n",
       "11                1                    1  \n",
       "12                1                    1  \n",
       "13                2                    2  \n",
       "14                1                    1  \n",
       "15                2                    1  \n",
       "16                1                    2  \n",
       "17                2                    1  \n",
       "18                2                    2  \n",
       "19                2                    2  \n",
       "20                2                    2  \n",
       "21                1                    2  \n",
       "22                2                    2  \n",
       "23                1                    1  \n",
       "24                2                    2  \n",
       "25                2                    2  \n",
       "26                3                    2  \n",
       "27                2                    2  \n",
       "28                2                    2  \n",
       "29                1                    2  \n",
       "30                2                    2  \n",
       "31                3                    2  \n",
       "32                2                    3  \n",
       "33                3                    2  \n",
       "34                2                    2  "
      ]
     },
     "execution_count": 39,
     "metadata": {},
     "output_type": "execute_result"
    }
   ],
   "source": [
    "data2015"
   ]
  },
  {
   "cell_type": "markdown",
   "metadata": {},
   "source": [
    "### Times vs CWUR"
   ]
  },
  {
   "cell_type": "code",
   "execution_count": 40,
   "metadata": {},
   "outputs": [
    {
     "data": {
      "image/png": "[encoded data removed]",
      "text/plain": [
       "<Figure size 432x288 with 2 Axes>"
      ]
     },
     "metadata": {
      "needs_background": "light"
     },
     "output_type": "display_data"
    }
   ],
   "source": [
    "cf_matrix = confusion_matrix(data2015.times_world_rank,data2015.cwur_world_rank )\n",
    "sns.heatmap(cf_matrix, annot=(cf_matrix/cf_matrix.sum()).round(4), fmt='.2%', cmap='Blues',linewidths = .1,\n",
    "            xticklabels = ['Top','Middle','Low'],yticklabels=['Top','Middle','Low'])\n",
    "plt.title('Times vs Cwur 2015', fontsize=12)\n",
    "plt.xlabel(\"Times\", fontsize =10)\n",
    "plt.ylabel(\"Cwur\", fontsize =10)\n",
    "plt.yticks(rotation=360) \n",
    "\n",
    "score_cal(data2015.times_world_rank,data2015.cwur_world_rank)\n",
    "\n",
    "\n",
    "plt.savefig(' Times vs Cwur 2015' + '.png', width=150,height = 150) "
   ]
  },
  {
   "cell_type": "code",
   "execution_count": 41,
   "metadata": {},
   "outputs": [
    {
     "data": {
      "text/html": [
       "<div>\n",
       "<style scoped>\n",
       "    .dataframe tbody tr th:only-of-type {\n",
       "        vertical-align: middle;\n",
       "    }\n",
       "\n",
       "    .dataframe tbody tr th {\n",
       "        vertical-align: top;\n",
       "    }\n",
       "\n",
       "    .dataframe thead th {\n",
       "        text-align: right;\n",
       "    }\n",
       "</style>\n",
       "<table border=\"1\" class=\"dataframe\">\n",
       "  <thead>\n",
       "    <tr style=\"text-align: right;\">\n",
       "      <th></th>\n",
       "      <th>f1_score</th>\n",
       "      <th>accuracy</th>\n",
       "      <th>precision</th>\n",
       "      <th>recall</th>\n",
       "    </tr>\n",
       "  </thead>\n",
       "  <tbody>\n",
       "    <tr>\n",
       "      <th>0</th>\n",
       "      <td>0.71645</td>\n",
       "      <td>0.714286</td>\n",
       "      <td>0.72449</td>\n",
       "      <td>0.714286</td>\n",
       "    </tr>\n",
       "  </tbody>\n",
       "</table>\n",
       "</div>"
      ],
      "text/plain": [
       "   f1_score  accuracy  precision    recall\n",
       "0   0.71645  0.714286    0.72449  0.714286"
      ]
     },
     "execution_count": 41,
     "metadata": {},
     "output_type": "execute_result"
    }
   ],
   "source": [
    "score_cal(data2015.times_world_rank,data2015.cwur_world_rank)"
   ]
  },
  {
   "cell_type": "markdown",
   "metadata": {},
   "source": [
    "### Times vs Shanghai"
   ]
  },
  {
   "cell_type": "code",
   "execution_count": 42,
   "metadata": {},
   "outputs": [
    {
     "data": {
      "image/png": "[encoded data removed]",
      "text/plain": [
       "<Figure size 432x288 with 2 Axes>"
      ]
     },
     "metadata": {
      "needs_background": "light"
     },
     "output_type": "display_data"
    }
   ],
   "source": [
    "cf_matrix = confusion_matrix(data2015.times_world_rank,data2015.shanghai_world_rank )\n",
    "sns.heatmap(cf_matrix, annot=(cf_matrix/cf_matrix.sum()).round(4), fmt='.2%', cmap='Blues',linewidths = .1,\n",
    "            xticklabels = ['Top','Middle','Low'],yticklabels=['Top','Middle','Low'])\n",
    "plt.title('Times vs Shanghai 2015', fontsize=12)\n",
    "plt.xlabel(\"Times\", fontsize =10)\n",
    "plt.ylabel(\"Shanghai\", fontsize =10)\n",
    "plt.yticks(rotation=360) \n",
    "score_cal(data2015.times_world_rank,data2015.shanghai_world_rank)\n",
    "\n",
    "plt.savefig(' Times vs Shanghai 2015' + '.png', width=150,height = 150) "
   ]
  },
  {
   "cell_type": "code",
   "execution_count": 43,
   "metadata": {},
   "outputs": [
    {
     "data": {
      "text/html": [
       "<div>\n",
       "<style scoped>\n",
       "    .dataframe tbody tr th:only-of-type {\n",
       "        vertical-align: middle;\n",
       "    }\n",
       "\n",
       "    .dataframe tbody tr th {\n",
       "        vertical-align: top;\n",
       "    }\n",
       "\n",
       "    .dataframe thead th {\n",
       "        text-align: right;\n",
       "    }\n",
       "</style>\n",
       "<table border=\"1\" class=\"dataframe\">\n",
       "  <thead>\n",
       "    <tr style=\"text-align: right;\">\n",
       "      <th></th>\n",
       "      <th>f1_score</th>\n",
       "      <th>accuracy</th>\n",
       "      <th>precision</th>\n",
       "      <th>recall</th>\n",
       "    </tr>\n",
       "  </thead>\n",
       "  <tbody>\n",
       "    <tr>\n",
       "      <th>0</th>\n",
       "      <td>0.788352</td>\n",
       "      <td>0.8</td>\n",
       "      <td>0.847059</td>\n",
       "      <td>0.8</td>\n",
       "    </tr>\n",
       "  </tbody>\n",
       "</table>\n",
       "</div>"
      ],
      "text/plain": [
       "   f1_score  accuracy  precision  recall\n",
       "0  0.788352       0.8   0.847059     0.8"
      ]
     },
     "execution_count": 43,
     "metadata": {},
     "output_type": "execute_result"
    }
   ],
   "source": [
    "score_cal(data2015.times_world_rank,data2015.shanghai_world_rank)"
   ]
  },
  {
   "cell_type": "markdown",
   "metadata": {},
   "source": [
    "### CWUR vs Shanghai"
   ]
  },
  {
   "cell_type": "code",
   "execution_count": 95,
   "metadata": {},
   "outputs": [
    {
     "data": {
      "image/png": "[encoded data removed]",
      "text/plain": [
       "<Figure size 432x288 with 2 Axes>"
      ]
     },
     "metadata": {
      "needs_background": "light"
     },
     "output_type": "display_data"
    }
   ],
   "source": [
    "cf_matrix = confusion_matrix(data2015.cwur_world_rank,data2015.shanghai_world_rank )\n",
    "sns.heatmap(cf_matrix, annot=(cf_matrix/cf_matrix.sum()).round(4), fmt='.2%', cmap='Blues',linewidths = .1,\n",
    "            xticklabels = ['Top','Middle','Low'],yticklabels=['Top','Middle','Low'])\n",
    "plt.title('Cwur vs Shanghai 2015', fontsize=12)\n",
    "plt.xlabel(\"Cwur\", fontsize =10)\n",
    "plt.ylabel(\"Shanghai\", fontsize =10)\n",
    "plt.yticks(rotation=360) \n",
    "\n",
    "score_cal(data2015.cwur_world_rank,data2015.shanghai_world_rank)\n",
    "\n",
    "\n",
    "plt.savefig(' Cwur vs Shanghai 2015' + '.png', width=150,height = 150) "
   ]
  },
  {
   "cell_type": "code",
   "execution_count": 44,
   "metadata": {},
   "outputs": [
    {
     "data": {
      "text/html": [
       "<div>\n",
       "<style scoped>\n",
       "    .dataframe tbody tr th:only-of-type {\n",
       "        vertical-align: middle;\n",
       "    }\n",
       "\n",
       "    .dataframe tbody tr th {\n",
       "        vertical-align: top;\n",
       "    }\n",
       "\n",
       "    .dataframe thead th {\n",
       "        text-align: right;\n",
       "    }\n",
       "</style>\n",
       "<table border=\"1\" class=\"dataframe\">\n",
       "  <thead>\n",
       "    <tr style=\"text-align: right;\">\n",
       "      <th></th>\n",
       "      <th>f1_score</th>\n",
       "      <th>accuracy</th>\n",
       "      <th>precision</th>\n",
       "      <th>recall</th>\n",
       "    </tr>\n",
       "  </thead>\n",
       "  <tbody>\n",
       "    <tr>\n",
       "      <th>0</th>\n",
       "      <td>0.724687</td>\n",
       "      <td>0.742857</td>\n",
       "      <td>0.712605</td>\n",
       "      <td>0.742857</td>\n",
       "    </tr>\n",
       "  </tbody>\n",
       "</table>\n",
       "</div>"
      ],
      "text/plain": [
       "   f1_score  accuracy  precision    recall\n",
       "0  0.724687  0.742857   0.712605  0.742857"
      ]
     },
     "execution_count": 44,
     "metadata": {},
     "output_type": "execute_result"
    }
   ],
   "source": [
    "score_cal(data2015.cwur_world_rank,data2015.shanghai_world_rank)"
   ]
  },
  {
   "cell_type": "markdown",
   "metadata": {},
   "source": [
    "# Result\n",
    "\n",
    "+ 순위가 내려갈 수록 겹치는 대학이 많지 않음\n",
    "+ 하나에서 상위로 평가된경우 다른곳에서 하위로 평가된것은 없는 것으로 확인 되어짐\n",
    "+ 4개 또는 5개등급으로 나누어보아도 좋을 것같음 - 해봤지만 별로였음\n",
    "+ 하나에서는 TOP 다른곳에서는 middle로 평가된 경우를 찾아보아 각 평가의 기준을 합칠 경우 그 학교가 어떻게 평가될것인지 확인해보는것도 좋을것같음"
   ]
  },
  {
   "cell_type": "code",
   "execution_count": null,
   "metadata": {},
   "outputs": [],
   "source": []
  },
  {
   "cell_type": "code",
   "execution_count": null,
   "metadata": {},
   "outputs": [],
   "source": []
  }
 ],
 "metadata": {
  "kernelspec": {
   "display_name": "Python 3",
   "language": "python",
   "name": "python3"
  },
  "language_info": {
   "codemirror_mode": {
    "name": "ipython",
    "version": 3
   },
   "file_extension": ".py",
   "mimetype": "text/x-python",
   "name": "python",
   "nbconvert_exporter": "python",
   "pygments_lexer": "ipython3",
   "version": "3.8.3"
  }
 },
 "nbformat": 4,
 "nbformat_minor": 4
}
